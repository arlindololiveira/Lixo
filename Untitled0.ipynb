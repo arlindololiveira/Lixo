{
  "nbformat": 4,
  "nbformat_minor": 0,
  "metadata": {
    "colab": {
      "name": "Untitled0.ipynb",
      "provenance": [],
      "authorship_tag": "ABX9TyMUoBI+sO56J8wheZ6ZRxOt",
      "include_colab_link": true
    },
    "kernelspec": {
      "name": "python3",
      "display_name": "Python 3"
    }
  },
  "cells": [
    {
      "cell_type": "markdown",
      "metadata": {
        "id": "view-in-github",
        "colab_type": "text"
      },
      "source": [
        "<a href=\"https://colab.research.google.com/github/arlindololiveira/Lixo/blob/master/Untitled0.ipynb\" target=\"_parent\"><img src=\"https://colab.research.google.com/assets/colab-badge.svg\" alt=\"Open In Colab\"/></a>"
      ]
    },
    {
      "cell_type": "code",
      "metadata": {
        "id": "lrGaMsQWNklP",
        "colab_type": "code",
        "colab": {
          "base_uri": "https://localhost:8080/",
          "height": 105
        },
        "outputId": "70d62f00-2084-4174-b61c-1acc2c246463"
      },
      "source": [
        "from __future__ import print_function\n",
        "import torch\n",
        "\n",
        "x = torch.rand(5,3)\n",
        "y = torch.rand(5,3)\n",
        "print(x+y)\n",
        "\n"
      ],
      "execution_count": 7,
      "outputs": [
        {
          "output_type": "stream",
          "text": [
            "tensor([[1.1161, 1.3449, 1.1294],\n",
            "        [0.7789, 1.4699, 0.7751],\n",
            "        [1.2844, 0.6941, 0.9172],\n",
            "        [1.2151, 1.2282, 0.6345],\n",
            "        [0.8109, 0.4676, 0.7549]])\n"
          ],
          "name": "stdout"
        }
      ]
    }
  ]
}